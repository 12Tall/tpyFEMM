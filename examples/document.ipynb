{
 "cells": [
  {
   "attachments": {},
   "cell_type": "markdown",
   "metadata": {},
   "source": [
    "# 文档测试  "
   ]
  },
  {
   "cell_type": "code",
   "execution_count": 1,
   "metadata": {},
   "outputs": [],
   "source": [
    "from tpyFEMM.document import Document, DocType\n",
    "from tpyFEMM.node import MagneticsNode\n",
    "from tpyFEMM.segment import MagneticsLineSegment,MagneticsArcSegment\n",
    "from tpyFEMM.block import MagneticsBlockLabel\n",
    "\n",
    "\n",
    "\n",
    "Document(docType=DocType.Magnetics).render()\n",
    "MagneticsNode((-1,0),\"111\",groupNo=1).render()\n",
    "MagneticsNode((0,1),\"111\",groupNo=1).render()\n",
    "MagneticsLineSegment((-1,0),(0,1),autoMesh=1).render()\n",
    "MagneticsArcSegment((0,1),(-1,0),angle=90).render()\n",
    "MagneticsBlockLabel(magDirection=\"atan2(y,x)*180/pi\").render()\n"
   ]
  }
 ],
 "metadata": {
  "kernelspec": {
   "display_name": "Python 3",
   "language": "python",
   "name": "python3"
  },
  "language_info": {
   "codemirror_mode": {
    "name": "ipython",
    "version": 3
   },
   "file_extension": ".py",
   "mimetype": "text/x-python",
   "name": "python",
   "nbconvert_exporter": "python",
   "pygments_lexer": "ipython3",
   "version": "3.11.3"
  },
  "orig_nbformat": 4
 },
 "nbformat": 4,
 "nbformat_minor": 2
}
